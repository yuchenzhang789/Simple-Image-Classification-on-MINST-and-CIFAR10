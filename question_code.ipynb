{
 "cells": [
  {
   "cell_type": "code",
   "execution_count": 1,
   "metadata": {},
   "outputs": [
    {
     "name": "stdout",
     "output_type": "stream",
     "text": [
      "\n",
      "loaded mnist data!\n",
      "test_data (10000, 784)\n",
      "training_data (60000, 784)\n",
      "training_labels (60000, 1)\n",
      "\n",
      "loaded spam data!\n",
      "test_data (5857, 32)\n",
      "training_data (5172, 32)\n",
      "training_labels (5172, 1)\n",
      "\n",
      "loaded cifar10 data!\n",
      "test_data (10000, 3072)\n",
      "training_data (50000, 3072)\n",
      "training_labels (50000, 1)\n"
     ]
    }
   ],
   "source": [
    "import sys\n",
    "if sys.version_info[0] < 3:\n",
    "    raise Exception(\"Python 3 not detected.\")\n",
    "import numpy as np\n",
    "import matplotlib.pyplot as plt \n",
    "from sklearn import svm\n",
    "from scipy import io\n",
    "for data_name in [\"mnist\", \"spam\", \"cifar10\"]:\n",
    "    data = io.loadmat(\"data/%s_data.mat\" % data_name)\n",
    "    print(\"\\nloaded %s data!\" % data_name)\n",
    "    fields = \"test_data\", \"training_data\", \"training_labels\"\n",
    "    for field in fields:\n",
    "        print(field, data[field].shape)"
   ]
  },
  {
   "cell_type": "code",
   "execution_count": 2,
   "metadata": {},
   "outputs": [],
   "source": [
    "import numpy as np\n",
    "from matplotlib import pyplot as plt\n",
    "from sklearn import svm\n",
    "from sklearn.metrics import accuracy_score # This is the only function you are allowed to use.\n",
    "from scipy import io\n",
    "import csv\n",
    "import os\n",
    "import argparse\n",
    "import warnings\n",
    "warnings.simplefilter('ignore')\n",
    "\n",
    "def load_data(name):\n",
    "    # Return the specified dataset by NAME\n",
    "    return io.loadmat(\"data/%s_data.mat\" % name)\n",
    "mnist_data = load_data('mnist')\n",
    "spam_data = load_data('spam')\n",
    "cifar_data = load_data('cifar10')\n",
    "all_data = [mnist_data, spam_data, cifar_data]"
   ]
  },
  {
   "cell_type": "code",
   "execution_count": 3,
   "metadata": {},
   "outputs": [
    {
     "data": {
      "text/plain": [
       "60000"
      ]
     },
     "execution_count": 3,
     "metadata": {},
     "output_type": "execute_result"
    }
   ],
   "source": [
    "len(mnist_data['training_data'])"
   ]
  },
  {
   "cell_type": "code",
   "execution_count": 4,
   "metadata": {},
   "outputs": [],
   "source": [
    "#################################\n",
    "# Question 1: Data Partitioning #\n",
    "#################################\n",
    "mnist_val_size = 10000\n",
    "spam_val_size = round(spam_data['training_data'].shape[0]*0.2)\n",
    "cifar_val_size = 5000\n",
    "validation_sizes = [mnist_val_size, spam_val_size, cifar_val_size]\n",
    "\n",
    "def partition(data, labels, validation_size):\n",
    "    # output: training_data, training_label, validation_data, validation_label\n",
    "    if data.shape[0] != labels.shape[0]:\n",
    "        raise Exception(\"data size mismatch with label size!\")\n",
    "    indices = np.arange(data.shape[0])\n",
    "    np.random.shuffle(indices)\n",
    "    data_shuffle = data[indices]\n",
    "    labels_shuffle = labels[indices]\n",
    "    return data_shuffle[validation_size:], labels_shuffle[validation_size:], data_shuffle[:validation_size], labels_shuffle[:validation_size]"
   ]
  },
  {
   "cell_type": "code",
   "execution_count": 5,
   "metadata": {},
   "outputs": [
    {
     "data": {
      "text/plain": [
       "(10000, 784)"
      ]
     },
     "execution_count": 5,
     "metadata": {},
     "output_type": "execute_result"
    }
   ],
   "source": [
    "mnist_train = partition(mnist_data['training_data'], mnist_data['training_labels'], mnist_val_size)\n",
    "mnist_train[2].shape"
   ]
  },
  {
   "cell_type": "code",
   "execution_count": 6,
   "metadata": {},
   "outputs": [],
   "source": [
    "#################################\n",
    "# Question 2: SVMs              #\n",
    "#################################\n",
    "\n",
    "def train(X, Y, c = 1.0):\n",
    "    # create, train, and return and SVM Model\n",
    "    #clf = svm.LinearSVC(C=c)\n",
    "    clf = svm.LinearSVC(C=c)\n",
    "    clf.fit(X, Y)\n",
    "    return clf\n",
    "\n",
    "def num_examples_experiment(X_train, Y_train, X_val, Y_val, num_examples_arr, name):\n",
    "    # train an svm for each number of examples.\n",
    "    # Evaluate the training and validation performance\n",
    "    # plot the results.\n",
    "    train_acc = []\n",
    "    val_acc = []\n",
    "    for example in num_examples_arr:\n",
    "        indices = np.arange(X_train.shape[0])\n",
    "        np.random.shuffle(indices)\n",
    "        X = X_train[indices]\n",
    "        Y = Y_train[indices]\n",
    "        model = train(X[:example], Y[:example])\n",
    "        train_acc.append(accuracy_score(Y[:example], model.predict(X[:example])))\n",
    "        val_acc.append(accuracy_score(Y_val, model.predict(X_val)))\n",
    "    plt.figure()\n",
    "    plt.plot(num_examples_arr, train_acc, label = 'train_accuracy')\n",
    "    plt.plot(num_examples_arr, val_acc, label = 'validation_accuracy')\n",
    "    plt.xlabel('number of example')\n",
    "    plt.ylabel('model accuracy')\n",
    "    plt.title(name)\n",
    "    plt.legend()\n",
    "    plt.show()\n",
    "    return \n",
    "\n",
    "def main_q2():\n",
    "    # Run all of the code for question 3.\n",
    "    MNIST_NUM_EXAMPLES_ARR = [100, 200, 500, 1000, 2000, 5000, 10000]\n",
    "    SPAM_NUM_EXAMPLES_ARR = [100, 200, 500, 1000, 2000, spam_data['training_data'].shape[0]] # Figure out the number of examples in the dataset or handle this case.\n",
    "    CIFAR_NUM_EXAMPLES_ARR = [100, 200, 500, 1000, 2000, 5000]\n",
    "        \n",
    "    # YOUR CODE HERE\n",
    "    all_examples = [MNIST_NUM_EXAMPLES_ARR, SPAM_NUM_EXAMPLES_ARR, CIFAR_NUM_EXAMPLES_ARR]\n",
    "    all_names = ['MNIST Dataset','Spam Dataset', 'CIFAR10 Dataset']\n",
    "    for i in range(3):\n",
    "        dataset = all_data[i]\n",
    "        data = partition(dataset['training_data'], dataset['training_labels'], validation_sizes[i])\n",
    "        num_examples_experiment(data[0], data[1], data[2], data[3], all_examples[i], all_names[i])\n",
    "    return"
   ]
  },
  {
   "cell_type": "code",
   "execution_count": 30,
   "metadata": {},
   "outputs": [
    {
     "data": {
      "image/png": "[encoded data removed]",
      "text/plain": [
       "<Figure size 432x288 with 1 Axes>"
      ]
     },
     "metadata": {
      "needs_background": "light"
     },
     "output_type": "display_data"
    },
    {
     "data": {
      "image/png": "[encoded data removed]",
      "text/plain": [
       "<Figure size 432x288 with 1 Axes>"
      ]
     },
     "metadata": {
      "needs_background": "light"
     },
     "output_type": "display_data"
    },
    {
     "data": {
      "image/png": "[encoded data removed]",
      "text/plain": [
       "<Figure size 432x288 with 1 Axes>"
      ]
     },
     "metadata": {
      "needs_background": "light"
     },
     "output_type": "display_data"
    }
   ],
   "source": [
    "main_q2()"
   ]
  },
  {
   "cell_type": "code",
   "execution_count": 7,
   "metadata": {},
   "outputs": [],
   "source": [
    "#################################\n",
    "# Question 3: Hyperparameters   #\n",
    "#################################\n",
    "\n",
    "def hyperparameter_search(X_train, Y_train, X_val, Y_val, parameter_values):\n",
    "    val_acc = []\n",
    "    for param in parameter_values:\n",
    "        model = train(X_train, Y_train, param)\n",
    "        val_acc.append(accuracy_score(Y_val, model.predict(X_val)))\n",
    "    \n",
    "    return val_acc\n",
    "\n",
    "def main_q3():\n",
    "    #c_values = [0.0001, 0.1, 0.5, 1.0, 2.0, 3.0, 5.0, 7.5, 10.0, 20.0, 50.0, 100]\n",
    "    c_values = np.logspace(-9, 9, num=19)\n",
    "    dataset = mnist_data\n",
    "    size = 10000\n",
    "    data = partition(dataset['training_data'], dataset['training_labels'], mnist_val_size)\n",
    "    val_acc_1 = hyperparameter_search(data[0][:size], data[1][:size], data[2], data[3], c_values)\n",
    "    c_val = c_values[np.argmax(val_acc_1)]\n",
    "    \n",
    "    new_c_values = np.logspace(np.log10(c_val)-1, np.log10(c_val)+1, num=10)\n",
    "    data = partition(dataset['training_data'], dataset['training_labels'], mnist_val_size)\n",
    "    val_acc_2 = hyperparameter_search(data[0][:size], data[1][:size], data[2], data[3], new_c_values)\n",
    "    c_val = new_c_values[np.argmax(val_acc_2)]\n",
    "    \n",
    "    val_acc = np.append(val_acc_1, val_acc_2)\n",
    "    params = np.append(c_values, new_c_values)\n",
    "    \n",
    "    print(params)\n",
    "    print(val_acc)\n",
    "    \n",
    "    plt.figure()\n",
    "    plt.xscale('log')\n",
    "    plt.scatter(params, val_acc)\n",
    "    plt.xlabel('C values')\n",
    "    plt.ylabel('validation accuracy')\n",
    "    plt.title('parameter value VS validation accuracy')\n",
    "    plt.show()\n",
    "    print('highest c value is: ' + str(c_val) + ',with accuracy: ' + str(max(val_acc)))\n",
    "    \n",
    "    return "
   ]
  },
  {
   "cell_type": "code",
   "execution_count": 8,
   "metadata": {},
   "outputs": [
    {
     "name": "stdout",
     "output_type": "stream",
     "text": [
      "[1.00000000e-09 1.00000000e-08 1.00000000e-07 1.00000000e-06\n",
      " 1.00000000e-05 1.00000000e-04 1.00000000e-03 1.00000000e-02\n",
      " 1.00000000e-01 1.00000000e+00 1.00000000e+01 1.00000000e+02\n",
      " 1.00000000e+03 1.00000000e+04 1.00000000e+05 1.00000000e+06\n",
      " 1.00000000e+07 1.00000000e+08 1.00000000e+09 1.00000000e-07\n",
      " 1.66810054e-07 2.78255940e-07 4.64158883e-07 7.74263683e-07\n",
      " 1.29154967e-06 2.15443469e-06 3.59381366e-06 5.99484250e-06\n",
      " 1.00000000e-05]\n",
      "[0.8227 0.8736 0.8931 0.8969 0.8878 0.8712 0.852  0.8553 0.8495 0.8532\n",
      " 0.8547 0.8432 0.8515 0.8542 0.8556 0.8482 0.8533 0.8516 0.8484 0.8977\n",
      " 0.8983 0.8982 0.8979 0.8975 0.8974 0.8956 0.8922 0.8892 0.8848]\n"
     ]
    },
    {
     "data": {
      "image/png": "[encoded data removed]",
      "text/plain": [
       "<Figure size 432x288 with 1 Axes>"
      ]
     },
     "metadata": {
      "needs_background": "light"
     },
     "output_type": "display_data"
    },
    {
     "name": "stdout",
     "output_type": "stream",
     "text": [
      "highest c value is: 1.668100537200059e-07,with accuracy: 0.8983\n"
     ]
    }
   ],
   "source": [
    "main_q3()"
   ]
  },
  {
   "cell_type": "code",
   "execution_count": 9,
   "metadata": {},
   "outputs": [],
   "source": [
    "#################################\n",
    "# Question 4: KFold CrossValid  #\n",
    "#################################\n",
    "\n",
    "def k_fold_cross_validation(X_train, Y_train, k, parameter_values):\n",
    "    val_acc = []\n",
    "    for param in parameter_values:\n",
    "        indices = np.arange(X_train.shape[0])\n",
    "        np.random.shuffle(indices)\n",
    "        x_shuffle = X_train[indices]\n",
    "        y_shuffle = Y_train[indices]\n",
    "        k_acc = []\n",
    "        for i in range(k):\n",
    "            start = int(np.floor(i*len(X_train)/k))\n",
    "            end = int(np.floor((i+1)*len(X_train)/k))\n",
    "            train_x = np.append(x_shuffle[:start], x_shuffle[end:], axis=0)\n",
    "            train_y = np.append(y_shuffle[:start], y_shuffle[end:], axis=0)\n",
    "            val_x = x_shuffle[start:end]\n",
    "            val_y = y_shuffle[start:end]\n",
    "            model = train(train_x, train_y, param)\n",
    "            k_acc.append(accuracy_score(val_y, model.predict(val_x)))\n",
    "        val_acc.append(np.mean(k_acc))\n",
    "    \n",
    "    return val_acc\n",
    "\n",
    "def main_q4():\n",
    "    c_values = np.logspace(-9, 9, num=19)\n",
    "    dataset = spam_data\n",
    "    val_acc_1 = k_fold_cross_validation(dataset['training_data'], dataset['training_labels'], 5, c_values)\n",
    "    c_val = c_values[np.argmax(val_acc_1)]\n",
    "    \n",
    "    new_c_values = np.logspace(np.log10(c_val)-0.1, np.log10(c_val)+0.1, num=10)\n",
    "    val_acc_2 = k_fold_cross_validation(dataset['training_data'], dataset['training_labels'], 5, new_c_values)\n",
    "    c_val = new_c_values[np.argmax(val_acc_2)]\n",
    "    \n",
    "    val_acc = np.append(val_acc_1, val_acc_2)\n",
    "    params = np.append(c_values, new_c_values)\n",
    "    \n",
    "    print(params)\n",
    "    print(val_acc)\n",
    "    plt.figure()\n",
    "    plt.xscale('log')\n",
    "    plt.scatter(params, val_acc)\n",
    "    plt.xlabel('C values')\n",
    "    plt.ylabel('validation accuracy')\n",
    "    plt.title('parameter value VS 5-fold-validation accuracy')\n",
    "    plt.show()\n",
    "    print('highest c value is: ' + str(c_val) + ',with 5-fold-accuracy: ' + str(max(val_acc)))\n",
    "    return"
   ]
  },
  {
   "cell_type": "code",
   "execution_count": 10,
   "metadata": {},
   "outputs": [
    {
     "name": "stdout",
     "output_type": "stream",
     "text": [
      "[1.00000000e-09 1.00000000e-08 1.00000000e-07 1.00000000e-06\n",
      " 1.00000000e-05 1.00000000e-04 1.00000000e-03 1.00000000e-02\n",
      " 1.00000000e-01 1.00000000e+00 1.00000000e+01 1.00000000e+02\n",
      " 1.00000000e+03 1.00000000e+04 1.00000000e+05 1.00000000e+06\n",
      " 1.00000000e+07 1.00000000e+08 1.00000000e+09 7.94328235e+00\n",
      " 8.36030694e+00 8.79922544e+00 9.26118728e+00 9.74740226e+00\n",
      " 1.02591437e+01 1.07977516e+01 1.13646367e+01 1.19612833e+01\n",
      " 1.25892541e+01]\n",
      "[0.74883936 0.74806436 0.74806586 0.7517467  0.7608264  0.76198918\n",
      " 0.77668022 0.79582485 0.80143059 0.80704174 0.81225614 0.78597165\n",
      " 0.76429176 0.68538372 0.66415253 0.75871107 0.74225175 0.75426438\n",
      " 0.77862548 0.80916361 0.80955438 0.81206253 0.81225764 0.81187042\n",
      " 0.81129164 0.81360992 0.81457648 0.80954373 0.8141872 ]\n"
     ]
    },
    {
     "data": {
      "image/png": "[encoded data removed]",
      "text/plain": [
       "<Figure size 432x288 with 1 Axes>"
      ]
     },
     "metadata": {
      "needs_background": "light"
     },
     "output_type": "display_data"
    },
    {
     "name": "stdout",
     "output_type": "stream",
     "text": [
      "highest c value is: 11.364636663857247,with 5-fold-accuracy: 0.8145764770741643\n"
     ]
    }
   ],
   "source": [
    "main_q4()"
   ]
  },
  {
   "cell_type": "code",
   "execution_count": 14,
   "metadata": {},
   "outputs": [],
   "source": [
    "#################################\n",
    "# Question 5: Kaggle            #\n",
    "#################################\n",
    "\n",
    "# For kaggle, do whatever you like!\n",
    "def kaggle_train(X, Y, c = 1.0, kernel_name='linear'):\n",
    "    # create, train, and return and SVM Model\n",
    "    #clf = svm.LinearSVC(C=c)\n",
    "    print(\"here we train\")\n",
    "    if kernel_name == 'linear':\n",
    "        clf = svm.LinearSVC(C=c)\n",
    "    else:\n",
    "        clf = svm.SVC(kernel=kernel_name, C=c)\n",
    "    clf.fit(X, Y)\n",
    "    return clf\n",
    "\n",
    "def no_k_fold(X_train, Y_train, parameter_values, kernel_name, size):\n",
    "    data = partition(X_train, Y_train, size)\n",
    "    val_acc = []\n",
    "    for param in parameter_values:\n",
    "        model = kaggle_train(data[0][:10000], data[1][:10000], param, kernel_name)\n",
    "        val_acc.append(accuracy_score(data[3], model.predict(data[2])))\n",
    "    return val_acc\n",
    "\n",
    "def k_fold_param_tuning_with_kernel(X_train, Y_train, k, parameter_values, kernel_name):\n",
    "    val_acc = []\n",
    "    for param in parameter_values:\n",
    "        indices = np.arange(X_train.shape[0])\n",
    "        np.random.shuffle(indices)\n",
    "        x_shuffle = X_train[indices]\n",
    "        y_shuffle = Y_train[indices]\n",
    "        k_acc = []\n",
    "        for i in range(k):\n",
    "            start = int(np.floor(i*len(X_train)/k))\n",
    "            end = int(np.floor((i+1)*len(X_train)/k))\n",
    "            train_x = np.append(x_shuffle[:start], x_shuffle[end:], axis=0)\n",
    "            train_y = np.append(y_shuffle[:start], y_shuffle[end:], axis=0)\n",
    "            val_x = x_shuffle[start:end]\n",
    "            val_y = y_shuffle[start:end]\n",
    "            model = kaggle_train(train_x, train_y, param, kernel_name)\n",
    "            k_acc.append(accuracy_score(val_y, model.predict(val_x)))\n",
    "        val_acc.append(np.mean(k_acc))\n",
    "    \n",
    "    return val_acc\n",
    "\n",
    "def kaggle_predict(dataset, kernel_name, k_fold_or_not = False, size=None):\n",
    "    c_values = np.logspace(-2, 3, num=6)\n",
    "    if k_fold_or_not:\n",
    "        val_acc_1 = k_fold_param_tuning_with_kernel(dataset['training_data'], dataset['training_labels'], 5, c_values, kernel_name)\n",
    "    else:\n",
    "        val_acc_1 = no_k_fold(dataset['training_data'], dataset['training_labels'], c_values, kernel_name, size)\n",
    "    c_val = c_values[np.argmax(val_acc_1)]\n",
    "    \n",
    "    new_c_values = np.logspace(np.log10(c_val)-0.2, np.log10(c_val)+0.2, num=9)\n",
    "    if k_fold_or_not:\n",
    "        val_acc_2 = k_fold_param_tuning_with_kernel(dataset['training_data'], dataset['training_labels'], 5, new_c_values, kernel_name)\n",
    "    else:\n",
    "        val_acc_2 = no_k_fold(dataset['training_data'], dataset['training_labels'], new_c_values, kernel_name, size)\n",
    "    c_val = new_c_values[np.argmax(val_acc_2)]\n",
    "    \n",
    "    val_acc = np.append(val_acc_1, val_acc_2)\n",
    "    params = np.append(c_values, new_c_values)\n",
    "    \n",
    "    plt.figure()\n",
    "    plt.xscale('log')\n",
    "    plt.scatter(params, val_acc)\n",
    "    plt.xlabel('C values')\n",
    "    plt.ylabel('validation accuracy')\n",
    "    plt.title('parameter value VS validation accuracy on kernel '+kernel_name)\n",
    "    plt.show()\n",
    "    print('highest c value is: ' + str(c_val) + ',with 5-fold-accuracy: ' + str(max(val_acc)))\n",
    "    final_model = kaggle_train(dataset['training_data'], dataset['training_labels'], c_val, kernel_name)\n",
    "    return final_model.predict(dataset['test_data'])\n",
    "\n",
    "def q5_kaggle(name, kernel):\n",
    "    sizes = {'mnist': 5000, 'spam':round(spam_data['training_data'].shape[0]*0.2), 'cifar':3000}\n",
    "    size = sizes[name]\n",
    "    if name == 'mnist':\n",
    "        print('working on MNIST dataset...')\n",
    "        prediction = kaggle_predict(mnist_data, kernel, False, size)\n",
    "        print('finish MNIST dataset')\n",
    "    elif name == 'spam':\n",
    "        print('working on SPAM dataset...')\n",
    "        prediction = kaggle_predict(spam_data, kernel,True)\n",
    "        print('finish spam dataset')\n",
    "    else:\n",
    "        print('working on CIFAR dataset...')\n",
    "        prediction = kaggle_predict(cifar_data, kernel, False, size)\n",
    "        print('finish CIFAR dataset')\n",
    "    return prediction"
   ]
  },
  {
   "cell_type": "code",
   "execution_count": 9,
   "metadata": {},
   "outputs": [
    {
     "name": "stdout",
     "output_type": "stream",
     "text": [
      "working on SPAM dataset...\n",
      "here we train\n",
      "here we train\n",
      "here we train\n",
      "here we train\n",
      "here we train\n",
      "here we train\n",
      "here we train\n",
      "here we train\n",
      "here we train\n",
      "here we train\n",
      "here we train\n",
      "here we train\n",
      "here we train\n",
      "here we train\n",
      "here we train\n",
      "here we train\n",
      "here we train\n",
      "here we train\n",
      "here we train\n",
      "here we train\n",
      "here we train\n",
      "here we train\n",
      "here we train\n",
      "here we train\n",
      "here we train\n",
      "here we train\n",
      "here we train\n",
      "here we train\n",
      "here we train\n",
      "here we train\n",
      "here we train\n",
      "here we train\n",
      "here we train\n",
      "here we train\n",
      "here we train\n",
      "here we train\n",
      "here we train\n",
      "here we train\n",
      "here we train\n",
      "here we train\n",
      "here we train\n",
      "here we train\n",
      "here we train\n",
      "here we train\n",
      "here we train\n",
      "here we train\n",
      "here we train\n",
      "here we train\n",
      "here we train\n",
      "here we train\n",
      "here we train\n",
      "here we train\n",
      "here we train\n",
      "here we train\n",
      "here we train\n",
      "here we train\n",
      "here we train\n",
      "here we train\n",
      "here we train\n",
      "here we train\n",
      "here we train\n",
      "here we train\n",
      "here we train\n",
      "here we train\n",
      "here we train\n",
      "here we train\n",
      "here we train\n",
      "here we train\n",
      "here we train\n",
      "here we train\n",
      "here we train\n",
      "here we train\n",
      "here we train\n",
      "here we train\n",
      "here we train\n"
     ]
    },
    {
     "data": {
      "image/png": "[encoded data removed]",
      "text/plain": [
       "<Figure size 432x288 with 1 Axes>"
      ]
     },
     "metadata": {
      "needs_background": "light"
     },
     "output_type": "display_data"
    },
    {
     "name": "stdout",
     "output_type": "stream",
     "text": [
      "highest c value is: 9.261187281287935,with 5-fold-accuracy: 0.8141928068847587\n",
      "here we train\n",
      "finish spam dataset\n"
     ]
    }
   ],
   "source": [
    "spam_prediction = q5_kaggle('spam', 'linear')"
   ]
  },
  {
   "cell_type": "code",
   "execution_count": 14,
   "metadata": {},
   "outputs": [],
   "source": [
    "import pandas as pd\n",
    "import numpy as np\n",
    "\n",
    "# Usage results_to_csv(clf.predict(X_test))\n",
    "def results_to_csv(y_test):\n",
    "    y_test = y_test.astype(int)\n",
    "    df = pd.DataFrame({'Category': y_test})\n",
    "    df.index += 1  # Ensures that the index starts at 1. \n",
    "    df.to_csv('submission.csv', index_label='Id')\n",
    "    \n",
    "#results_to_csv(spam_prediction)"
   ]
  },
  {
   "cell_type": "code",
   "execution_count": 11,
   "metadata": {},
   "outputs": [
    {
     "name": "stdout",
     "output_type": "stream",
     "text": [
      "working on MNIST dataset...\n",
      "here we train\n",
      "here we train\n",
      "here we train\n",
      "here we train\n",
      "here we train\n",
      "here we train\n",
      "here we train\n",
      "here we train\n",
      "here we train\n",
      "here we train\n",
      "here we train\n",
      "here we train\n",
      "here we train\n",
      "here we train\n",
      "here we train\n",
      "here we train\n",
      "here we train\n",
      "here we train\n"
     ]
    },
    {
     "data": {
      "image/png": "[encoded data removed]",
      "text/plain": [
       "<Figure size 432x288 with 1 Axes>"
      ]
     },
     "metadata": {
      "needs_background": "light"
     },
     "output_type": "display_data"
    },
    {
     "name": "stdout",
     "output_type": "stream",
     "text": [
      "highest c value is: 7.943282347242816,with 5-fold-accuracy: 0.9692\n",
      "here we train\n",
      "finish MNIST dataset\n"
     ]
    }
   ],
   "source": [
    "mnist_prediction = q5_kaggle('mnist', 'rbf')"
   ]
  },
  {
   "cell_type": "code",
   "execution_count": 12,
   "metadata": {},
   "outputs": [],
   "source": [
    "results_to_csv(mnist_prediction)"
   ]
  },
  {
   "cell_type": "code",
   "execution_count": 6,
   "metadata": {},
   "outputs": [
    {
     "name": "stdout",
     "output_type": "stream",
     "text": [
      "working on CIFAR dataset...\n",
      "here we train\n",
      "here we train\n",
      "here we train\n",
      "here we train\n",
      "here we train\n",
      "here we train\n",
      "here we train\n",
      "here we train\n",
      "here we train\n",
      "here we train\n",
      "here we train\n",
      "here we train\n",
      "here we train\n",
      "here we train\n",
      "here we train\n",
      "here we train\n",
      "here we train\n",
      "here we train\n"
     ]
    },
    {
     "data": {
      "image/png": "[encoded data removed]",
      "text/plain": [
       "<Figure size 432x288 with 1 Axes>"
      ]
     },
     "metadata": {
      "needs_background": "light"
     },
     "output_type": "display_data"
    },
    {
     "name": "stdout",
     "output_type": "stream",
     "text": [
      "highest c value is: 7.943282347242822e-08,with 5-fold-accuracy: 0.3535\n",
      "here we train\n",
      "finish CIFAR dataset\n"
     ]
    }
   ],
   "source": [
    "cifar_prediction = q5_kaggle('cifar', 'linear')"
   ]
  },
  {
   "cell_type": "code",
   "execution_count": 9,
   "metadata": {},
   "outputs": [],
   "source": [
    "results_to_csv(cifar_prediction)\n"
   ]
  },
  {
   "cell_type": "code",
   "execution_count": 8,
   "metadata": {},
   "outputs": [
    {
     "name": "stdout",
     "output_type": "stream",
     "text": [
      "working on CIFAR dataset...\n",
      "here we train\n",
      "here we train\n",
      "here we train\n",
      "here we train\n",
      "here we train\n",
      "here we train\n",
      "here we train\n",
      "here we train\n",
      "here we train\n",
      "here we train\n",
      "here we train\n",
      "here we train\n",
      "here we train\n",
      "here we train\n",
      "here we train\n",
      "here we train\n",
      "here we train\n",
      "here we train\n"
     ]
    },
    {
     "data": {
      "image/png": "[encoded data removed]",
      "text/plain": [
       "<Figure size 432x288 with 1 Axes>"
      ]
     },
     "metadata": {
      "needs_background": "light"
     },
     "output_type": "display_data"
    },
    {
     "name": "stdout",
     "output_type": "stream",
     "text": [
      "highest c value is: 8.576958985908941,with 5-fold-accuracy: 0.4335\n",
      "here we train\n",
      "finish CIFAR dataset\n"
     ]
    }
   ],
   "source": [
    "cifar_prediction = q5_kaggle('cifar', 'rbf')"
   ]
  },
  {
   "cell_type": "code",
   "execution_count": 10,
   "metadata": {},
   "outputs": [],
   "source": [
    "results_to_csv(cifar_prediction)"
   ]
  },
  {
   "cell_type": "code",
   "execution_count": 12,
   "metadata": {},
   "outputs": [
    {
     "name": "stdout",
     "output_type": "stream",
     "text": [
      "working on MNIST dataset...\n",
      "here we train\n",
      "here we train\n",
      "here we train\n",
      "here we train\n",
      "here we train\n",
      "here we train\n",
      "here we train\n",
      "here we train\n",
      "here we train\n",
      "here we train\n",
      "here we train\n",
      "here we train\n",
      "here we train\n",
      "here we train\n",
      "here we train\n"
     ]
    },
    {
     "data": {
      "image/png": "[encoded data removed]",
      "text/plain": [
       "<Figure size 432x288 with 1 Axes>"
      ]
     },
     "metadata": {
      "needs_background": "light"
     },
     "output_type": "display_data"
    },
    {
     "name": "stdout",
     "output_type": "stream",
     "text": [
      "highest c value is: 8.912509381337454,with 5-fold-accuracy: 0.9752\n",
      "here we train\n",
      "finish MNIST dataset\n"
     ]
    }
   ],
   "source": [
    "mnist_prediction = q5_kaggle('mnist', 'rbf')"
   ]
  },
  {
   "cell_type": "code",
   "execution_count": 13,
   "metadata": {},
   "outputs": [],
   "source": [
    "results_to_csv(mnist_prediction)"
   ]
  },
  {
   "cell_type": "code",
   "execution_count": 15,
   "metadata": {},
   "outputs": [
    {
     "name": "stdout",
     "output_type": "stream",
     "text": [
      "working on CIFAR dataset...\n",
      "here we train\n",
      "here we train\n",
      "here we train\n",
      "here we train\n",
      "here we train\n",
      "here we train\n",
      "here we train\n",
      "here we train\n",
      "here we train\n",
      "here we train\n",
      "here we train\n",
      "here we train\n",
      "here we train\n",
      "here we train\n",
      "here we train\n"
     ]
    },
    {
     "data": {
      "image/png": "[encoded data removed]",
      "text/plain": [
       "<Figure size 432x288 with 1 Axes>"
      ]
     },
     "metadata": {
      "needs_background": "light"
     },
     "output_type": "display_data"
    },
    {
     "name": "stdout",
     "output_type": "stream",
     "text": [
      "highest c value is: 7.07945784384138,with 5-fold-accuracy: 0.4776666666666667\n",
      "here we train\n",
      "finish CIFAR dataset\n"
     ]
    }
   ],
   "source": [
    "cifar_prediction = q5_kaggle('cifar', 'rbf')"
   ]
  },
  {
   "cell_type": "code",
   "execution_count": 16,
   "metadata": {},
   "outputs": [],
   "source": [
    "results_to_csv(cifar_prediction)"
   ]
  },
  {
   "cell_type": "code",
   "execution_count": 21,
   "metadata": {},
   "outputs": [],
   "source": [
    "from skimage.feature import hog\n",
    "\n",
    "def mnist_hogging(image):\n",
    "    old_image = np.reshape(image, (28,28))\n",
    "    fd, new_image = hog(old_image, orientations=8, pixels_per_cell=(2, 2), cells_per_block=(1, 1),\n",
    "                        visualize=True, feature_vector=True)\n",
    "    return fd.tolist()\n",
    "\n",
    "def cifar_hogging(image):\n",
    "    test_image = np.reshape(image, (3, 1024))\n",
    "    test_image = [np.reshape(i, (32,32)).tolist() for i in test_image]\n",
    "    image = np.dstack(test_image)\n",
    "    fd= hog(image, orientations=8, pixels_per_cell=(2,2),\n",
    "                   cells_per_block=(1, 1), feature_vector=True, multichannel=True)\n",
    "    return fd.tolist()\n",
    "\n",
    "def kaggle_train(X, Y, c = 1.0, kernel_name='linear'):\n",
    "    # create, train, and return and SVM Model\n",
    "    #clf = svm.LinearSVC(C=c)\n",
    "    print(\"here we train\")\n",
    "    if kernel_name == 'linear':\n",
    "        clf = svm.LinearSVC(C=c)\n",
    "    else:\n",
    "        clf = svm.SVC(kernel=kernel_name, C=c)\n",
    "    clf.fit(X, Y)\n",
    "    return clf\n",
    "\n",
    "def partition(data, labels, validation_size):\n",
    "    # output: training_data, training_label, validation_data, validation_label\n",
    "    if data.shape[0] != labels.shape[0]:\n",
    "        raise Exception(\"data size mismatch with label size!\")\n",
    "    indices = np.arange(data.shape[0])\n",
    "    np.random.shuffle(indices)\n",
    "    data_shuffle = data[indices]\n",
    "    labels_shuffle = labels[indices]\n",
    "    return data_shuffle[validation_size:], labels_shuffle[validation_size:], data_shuffle[:validation_size], labels_shuffle[:validation_size]\n",
    "\n",
    "def no_k_fold(X_train, Y_train, parameter_values, kernel_name, size):\n",
    "    data = partition(X_train, Y_train, size)\n",
    "    val_acc = []\n",
    "    for param in parameter_values:\n",
    "        model = kaggle_train(data[0][:12000], data[1][:12000], param, kernel_name)\n",
    "        val_acc.append(accuracy_score(data[3], model.predict(data[2])))\n",
    "    return val_acc\n",
    "\n",
    "def kaggle_predict(dataset, kernel_name, k_fold_or_not = False, size=None):\n",
    "    c_values = np.logspace(-2, 3, num=6)\n",
    "    if k_fold_or_not:\n",
    "        val_acc_1 = k_fold_param_tuning_with_kernel(dataset['training_data'], dataset['training_labels'], 5, c_values, kernel_name)\n",
    "    else:\n",
    "        val_acc_1 = no_k_fold(dataset['training_data'], dataset['training_labels'], c_values, kernel_name, size)\n",
    "    c_val = c_values[np.argmax(val_acc_1)]\n",
    "    \n",
    "    new_c_values = np.logspace(np.log10(c_val)-0.3, np.log10(c_val)+0.3, num=11)\n",
    "    if k_fold_or_not:\n",
    "        val_acc_2 = k_fold_param_tuning_with_kernel(dataset['training_data'], dataset['training_labels'], 5, new_c_values, kernel_name)\n",
    "    else:\n",
    "        val_acc_2 = no_k_fold(dataset['training_data'], dataset['training_labels'], new_c_values, kernel_name, size)\n",
    "    c_val = new_c_values[np.argmax(val_acc_2)]\n",
    "    \n",
    "    val_acc = np.append(val_acc_1, val_acc_2)\n",
    "    params = np.append(c_values, new_c_values)\n",
    "    \n",
    "    plt.figure()\n",
    "    plt.xscale('log')\n",
    "    plt.scatter(params, val_acc)\n",
    "    plt.xlabel('C values')\n",
    "    plt.ylabel('validation accuracy')\n",
    "    plt.title('parameter value VS validation accuracy on kernel '+kernel_name)\n",
    "    plt.show()\n",
    "    print('zoomed c ranges'+str(new_c_values))\n",
    "    print('highest c value is: ' + str(c_val) + ',with 5-fold-accuracy: ' + str(max(val_acc)))\n",
    "    final_model = kaggle_train(dataset['training_data'], dataset['training_labels'], c_val, kernel_name)\n",
    "    return final_model.predict(dataset['test_data'])\n",
    "    #return None\n",
    "\n",
    "def q5_kaggle(name, kernel):\n",
    "    sizes = {'mnist': 4000, 'spam':round(spam_data['training_data'].shape[0]*0.2), 'cifar':3000}\n",
    "    size = sizes[name]\n",
    "    if name == 'mnist':\n",
    "        print('working on MNIST dataset...')\n",
    "        prediction = kaggle_predict(hog_mnist_data, kernel, False, size)\n",
    "        print('finish MNIST dataset')\n",
    "    elif name == 'spam':\n",
    "        print('working on SPAM dataset...')\n",
    "        prediction = kaggle_predict(spam_data, kernel,True)\n",
    "        print('finish spam dataset')\n",
    "    else:\n",
    "        print('working on CIFAR dataset...')\n",
    "        prediction = kaggle_predict(hog_cifar_data, kernel, False, size)\n",
    "        print('finish CIFAR dataset')\n",
    "    return prediction"
   ]
  },
  {
   "cell_type": "code",
   "execution_count": 18,
   "metadata": {},
   "outputs": [],
   "source": [
    "hog_mnist_data_train = np.array([mnist_hogging(i) for i in mnist_data['training_data']])"
   ]
  },
  {
   "cell_type": "code",
   "execution_count": 19,
   "metadata": {},
   "outputs": [],
   "source": [
    "hog_mnist_data_test = np.array([mnist_hogging(i) for i in mnist_data['test_data']])"
   ]
  },
  {
   "cell_type": "code",
   "execution_count": 20,
   "metadata": {},
   "outputs": [],
   "source": [
    "hog_mnist_data = {'training_data':hog_mnist_data_train, 'training_labels':mnist_data['training_labels'], 'test_data':hog_mnist_data_test}"
   ]
  },
  {
   "cell_type": "code",
   "execution_count": 33,
   "metadata": {},
   "outputs": [
    {
     "name": "stdout",
     "output_type": "stream",
     "text": [
      "working on MNIST dataset...\n",
      "here we train\n",
      "here we train\n",
      "here we train\n",
      "here we train\n",
      "here we train\n",
      "here we train\n",
      "here we train\n",
      "here we train\n",
      "here we train\n",
      "here we train\n",
      "here we train\n",
      "here we train\n",
      "here we train\n",
      "here we train\n",
      "here we train\n",
      "here we train\n",
      "here we train\n"
     ]
    },
    {
     "data": {
      "image/png": "[encoded data removed]",
      "text/plain": [
       "<Figure size 432x288 with 1 Axes>"
      ]
     },
     "metadata": {
      "needs_background": "light"
     },
     "output_type": "display_data"
    },
    {
     "name": "stdout",
     "output_type": "stream",
     "text": [
      "highest c value is: 6.309573444801933,with 5-fold-accuracy: 0.982\n",
      "here we train\n",
      "finish MNIST dataset\n"
     ]
    }
   ],
   "source": [
    "mnist_prediction = q5_kaggle('mnist', 'rbf')"
   ]
  },
  {
   "cell_type": "code",
   "execution_count": 34,
   "metadata": {},
   "outputs": [],
   "source": [
    "results_to_csv(mnist_prediction)"
   ]
  },
  {
   "cell_type": "code",
   "execution_count": 35,
   "metadata": {},
   "outputs": [
    {
     "data": {
      "text/plain": [
       "10000"
      ]
     },
     "execution_count": 35,
     "metadata": {},
     "output_type": "execute_result"
    }
   ],
   "source": [
    "len(mnist_prediction)"
   ]
  },
  {
   "cell_type": "code",
   "execution_count": 6,
   "metadata": {},
   "outputs": [],
   "source": [
    "hog_cifar_data_train = np.array([cifar_hogging(i) for i in cifar_data['training_data']])\n",
    "hog_cifar_data_test = np.array([cifar_hogging(i) for i in cifar_data['test_data']])\n",
    "hog_cifar_data = {'training_data':hog_cifar_data_train, 'training_labels':cifar_data['training_labels'], 'test_data':hog_cifar_data_test}"
   ]
  },
  {
   "cell_type": "code",
   "execution_count": 7,
   "metadata": {},
   "outputs": [
    {
     "name": "stdout",
     "output_type": "stream",
     "text": [
      "working on CIFAR dataset...\n",
      "here we train\n",
      "here we train\n",
      "here we train\n",
      "here we train\n",
      "here we train\n",
      "here we train\n",
      "here we train\n",
      "here we train\n",
      "here we train\n",
      "here we train\n",
      "here we train\n",
      "here we train\n",
      "here we train\n",
      "here we train\n",
      "here we train\n",
      "here we train\n",
      "here we train\n"
     ]
    },
    {
     "data": {
      "image/png": "[encoded data removed]",
      "text/plain": [
       "<Figure size 432x288 with 1 Axes>"
      ]
     },
     "metadata": {
      "needs_background": "light"
     },
     "output_type": "display_data"
    },
    {
     "name": "stdout",
     "output_type": "stream",
     "text": [
      "zoomed c ranges[0.63095734 0.69183097 0.75857758 0.83176377 0.91201084 1.\n",
      " 1.0964782  1.20226443 1.31825674 1.44543977 1.58489319]\n",
      "highest c value is: 1.5848931924611136,with 5-fold-accuracy: 0.472\n",
      "here we train\n",
      "finish CIFAR dataset\n"
     ]
    }
   ],
   "source": [
    "cifar_prediction = q5_kaggle('cifar', 'rbf')"
   ]
  },
  {
   "cell_type": "code",
   "execution_count": 12,
   "metadata": {},
   "outputs": [
    {
     "name": "stdout",
     "output_type": "stream",
     "text": [
      "working on MNIST dataset...\n",
      "here we train\n",
      "here we train\n",
      "here we train\n",
      "here we train\n",
      "here we train\n",
      "here we train\n",
      "here we train\n",
      "here we train\n",
      "here we train\n",
      "here we train\n",
      "here we train\n",
      "here we train\n",
      "here we train\n",
      "here we train\n",
      "here we train\n",
      "here we train\n",
      "here we train\n"
     ]
    },
    {
     "data": {
      "image/png": "[encoded data removed]",
      "text/plain": [
       "<Figure size 432x288 with 1 Axes>"
      ]
     },
     "metadata": {
      "needs_background": "light"
     },
     "output_type": "display_data"
    },
    {
     "name": "stdout",
     "output_type": "stream",
     "text": [
      "zoomed c ranges[ 6.30957344  6.91830971  7.58577575  8.31763771  9.12010839 10.\n",
      " 10.96478196 12.02264435 13.18256739 14.45439771 15.84893192]\n",
      "highest c value is: 6.309573444801933,with 5-fold-accuracy: 0.9745\n",
      "here we train\n",
      "finish MNIST dataset\n"
     ]
    }
   ],
   "source": [
    "mnist_prediction = q5_kaggle('mnist', 'rbf')"
   ]
  },
  {
   "cell_type": "code",
   "execution_count": 15,
   "metadata": {},
   "outputs": [],
   "source": [
    "results_to_csv(mnist_prediction)"
   ]
  },
  {
   "cell_type": "code",
   "execution_count": 22,
   "metadata": {},
   "outputs": [
    {
     "name": "stdout",
     "output_type": "stream",
     "text": [
      "working on MNIST dataset...\n",
      "here we train\n",
      "here we train\n",
      "here we train\n",
      "here we train\n",
      "here we train\n",
      "here we train\n",
      "here we train\n",
      "here we train\n",
      "here we train\n",
      "here we train\n",
      "here we train\n",
      "here we train\n",
      "here we train\n",
      "here we train\n",
      "here we train\n",
      "here we train\n",
      "here we train\n"
     ]
    },
    {
     "data": {
      "image/png": "[encoded data removed]",
      "text/plain": [
       "<Figure size 432x288 with 1 Axes>"
      ]
     },
     "metadata": {
      "needs_background": "light"
     },
     "output_type": "display_data"
    },
    {
     "name": "stdout",
     "output_type": "stream",
     "text": [
      "zoomed c ranges[ 5.01187234  5.75439937  6.60693448  7.58577575  8.7096359  10.\n",
      " 11.48153621 13.18256739 15.13561248 17.37800829 19.95262315]\n",
      "highest c value is: 5.011872336272722,with 5-fold-accuracy: 0.98475\n",
      "here we train\n",
      "finish MNIST dataset\n"
     ]
    }
   ],
   "source": [
    "mnist_prediction = q5_kaggle('mnist', 'rbf')"
   ]
  },
  {
   "cell_type": "code",
   "execution_count": 23,
   "metadata": {},
   "outputs": [],
   "source": [
    "results_to_csv(mnist_prediction)"
   ]
  },
  {
   "cell_type": "code",
   "execution_count": null,
   "metadata": {},
   "outputs": [],
   "source": []
  }
 ],
 "metadata": {
  "kernelspec": {
   "display_name": "Python 3",
   "language": "python",
   "name": "python3"
  },
  "language_info": {
   "codemirror_mode": {
    "name": "ipython",
    "version": 3
   },
   "file_extension": ".py",
   "mimetype": "text/x-python",
   "name": "python",
   "nbconvert_exporter": "python",
   "pygments_lexer": "ipython3",
   "version": "3.8.3"
  }
 },
 "nbformat": 4,
 "nbformat_minor": 4
}
