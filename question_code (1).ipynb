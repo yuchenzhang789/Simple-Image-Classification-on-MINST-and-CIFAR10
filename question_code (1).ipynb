{
 "cells": [
  {
   "cell_type": "code",
   "execution_count": 1,
   "metadata": {},
   "outputs": [
    {
     "name": "stdout",
     "output_type": "stream",
     "text": [
      "\n",
      "loaded mnist data!\n",
      "test_data (10000, 784)\n",
      "training_data (60000, 784)\n",
      "training_labels (60000, 1)\n",
      "\n",
      "loaded spam data!\n",
      "test_data (5857, 32)\n",
      "training_data (5172, 32)\n",
      "training_labels (5172, 1)\n",
      "\n",
      "loaded cifar10 data!\n",
      "test_data (10000, 3072)\n",
      "training_data (50000, 3072)\n",
      "training_labels (50000, 1)\n"
     ]
    }
   ],
   "source": [
    "import sys\n",
    "if sys.version_info[0] < 3:\n",
    "    raise Exception(\"Python 3 not detected.\")\n",
    "import numpy as np\n",
    "import matplotlib.pyplot as plt \n",
    "from sklearn import svm\n",
    "from scipy import io\n",
    "for data_name in [\"mnist\", \"spam\", \"cifar10\"]:\n",
    "    data = io.loadmat(\"data/%s_data.mat\" % data_name)\n",
    "    print(\"\\nloaded %s data!\" % data_name)\n",
    "    fields = \"test_data\", \"training_data\", \"training_labels\"\n",
    "    for field in fields:\n",
    "        print(field, data[field].shape)"
   ]
  },
  {
   "cell_type": "code",
   "execution_count": 2,
   "metadata": {},
   "outputs": [],
   "source": [
    "import numpy as np\n",
    "from matplotlib import pyplot as plt\n",
    "from sklearn import svm\n",
    "from sklearn.metrics import accuracy_score # This is the only function you are allowed to use.\n",
    "from scipy import io\n",
    "import csv\n",
    "import os\n",
    "import argparse\n",
    "import warnings\n",
    "warnings.simplefilter('ignore')\n",
    "\n",
    "def load_data(name):\n",
    "    # Return the specified dataset by NAME\n",
    "    return io.loadmat(\"data/%s_data.mat\" % name)\n",
    "mnist_data = load_data('mnist')\n",
    "spam_data = load_data('spam')\n",
    "cifar_data = load_data('cifar10')\n",
    "all_data = [mnist_data, spam_data, cifar_data]"
   ]
  },
  {
   "cell_type": "code",
   "execution_count": 3,
   "metadata": {},
   "outputs": [
    {
     "data": {
      "text/plain": [
       "60000"
      ]
     },
     "execution_count": 3,
     "metadata": {},
     "output_type": "execute_result"
    }
   ],
   "source": [
    "len(mnist_data['training_data'])"
   ]
  },
  {
   "cell_type": "code",
   "execution_count": 4,
   "metadata": {},
   "outputs": [],
   "source": [
    "#################################\n",
    "# Question 1: Data Partitioning #\n",
    "#################################\n",
    "mnist_val_size = 10000\n",
    "spam_val_size = round(spam_data['training_data'].shape[0]*0.2)\n",
    "cifar_val_size = 5000\n",
    "validation_sizes = [mnist_val_size, spam_val_size, cifar_val_size]\n",
    "\n",
    "def partition(data, labels, validation_size):\n",
    "    # output: training_data, training_label, validation_data, validation_label\n",
    "    if data.shape[0] != labels.shape[0]:\n",
    "        raise Exception(\"data size mismatch with label size!\")\n",
    "    indices = np.arange(data.shape[0])\n",
    "    np.random.shuffle(indices)\n",
    "    data_shuffle = data[indices]\n",
    "    labels_shuffle = labels[indices]\n",
    "    return data_shuffle[validation_size:], labels_shuffle[validation_size:], data_shuffle[:validation_size], labels_shuffle[:validation_size]"
   ]
  },
  {
   "cell_type": "code",
   "execution_count": 5,
   "metadata": {},
   "outputs": [
    {
     "data": {
      "text/plain": [
       "(10000, 784)"
      ]
     },
     "execution_count": 5,
     "metadata": {},
     "output_type": "execute_result"
    }
   ],
   "source": [
    "mnist_train = partition(mnist_data['training_data'], mnist_data['training_labels'], mnist_val_size)\n",
    "mnist_train[2].shape"
   ]
  },
  {
   "cell_type": "code",
   "execution_count": 6,
   "metadata": {},
   "outputs": [],
   "source": [
    "#################################\n",
    "# Question 2: SVMs              #\n",
    "#################################\n",
    "\n",
    "def train(X, Y, c = 1.0):\n",
    "    # create, train, and return and SVM Model\n",
    "    #clf = svm.LinearSVC(C=c)\n",
    "    clf = svm.SVC(kernel='poly', C=c)\n",
    "    clf.fit(X, Y)\n",
    "    return clf\n",
    "\n",
    "def num_examples_experiment(X_train, Y_train, X_val, Y_val, num_examples_arr, name):\n",
    "    # train an svm for each number of examples.\n",
    "    # Evaluate the training and validation performance\n",
    "    # plot the results.\n",
    "    train_acc = []\n",
    "    val_acc = []\n",
    "    for example in num_examples_arr:\n",
    "        indices = np.arange(X_train.shape[0])\n",
    "        np.random.shuffle(indices)\n",
    "        X = X_train[indices]\n",
    "        Y = Y_train[indices]\n",
    "        model = train(X[:example], Y[:example])\n",
    "        train_acc.append(accuracy_score(Y_train, model.predict(X_train)))\n",
    "        val_acc.append(accuracy_score(Y_val, model.predict(X_val)))\n",
    "    plt.figure()\n",
    "    plt.plot(num_examples_arr, train_acc, label = 'train_accuracy')\n",
    "    plt.plot(num_examples_arr, val_acc, label = 'validation_accuracy')\n",
    "    plt.xlabel('number of example')\n",
    "    plt.ylabel('model accuracy')\n",
    "    plt.title(name)\n",
    "    plt.show()\n",
    "    return \n",
    "\n",
    "def main_q2():\n",
    "    # Run all of the code for question 3.\n",
    "    MNIST_NUM_EXAMPLES_ARR = [100, 200, 500, 1000, 2000, 5000, 10000]\n",
    "    SPAM_NUM_EXAMPLES_ARR = [100, 200, 500, 1000, 2000, spam_data['training_data'].shape[0]] # Figure out the number of examples in the dataset or handle this case.\n",
    "    CIFAR_NUM_EXAMPLES_ARR = [100, 200, 500, 1000, 2000, 5000]\n",
    "        \n",
    "    # YOUR CODE HERE\n",
    "    all_examples = [MNIST_NUM_EXAMPLES_ARR, SPAM_NUM_EXAMPLES_ARR, CIFAR_NUM_EXAMPLES_ARR]\n",
    "    all_names = ['MNIST Dataset','Spam Dataset', 'CIFAR10 Dataset']\n",
    "    for i in range(3):\n",
    "        dataset = all_data[i]\n",
    "        data = partition(dataset['training_data'], dataset['training_labels'], validation_sizes[i])\n",
    "        num_examples_experiment(data[0], data[1], data[2], data[3], all_examples[i], all_names[i])\n",
    "    return"
   ]
  },
  {
   "cell_type": "code",
   "execution_count": null,
   "metadata": {},
   "outputs": [
    {
     "data": {
      "image/png": "[encoded data removed]",
      "text/plain": [
       "<Figure size 432x288 with 1 Axes>"
      ]
     },
     "metadata": {
      "needs_background": "light"
     },
     "output_type": "display_data"
    },
    {
     "data": {
      "image/png": "[encoded data removed]",
      "text/plain": [
       "<Figure size 432x288 with 1 Axes>"
      ]
     },
     "metadata": {
      "needs_background": "light"
     },
     "output_type": "display_data"
    }
   ],
   "source": [
    "main_q2()"
   ]
  },
  {
   "cell_type": "code",
   "execution_count": 7,
   "metadata": {},
   "outputs": [],
   "source": [
    "#################################\n",
    "# Question 3: Hyperparameters   #\n",
    "#################################\n",
    "\n",
    "def hyperparameter_search(X_train, Y_train, X_val, Y_val, parameter_values):\n",
    "    val_acc = []\n",
    "    for param in parameter_values:\n",
    "        model = train(X_train, Y_train, param)\n",
    "        val_acc.append(accuracy_score(Y_val, model.predict(X_val)))\n",
    "    \n",
    "    return val_acc\n",
    "\n",
    "def main_q3():\n",
    "    #c_values = [0.0001, 0.1, 0.5, 1.0, 2.0, 3.0, 5.0, 7.5, 10.0, 20.0, 50.0, 100]\n",
    "    c_values = np.logspace(-9, 9, num=19)\n",
    "    dataset = mnist_data\n",
    "    size = 10000\n",
    "    data = partition(dataset['training_data'], dataset['training_labels'], mnist_val_size)\n",
    "    val_acc_1 = hyperparameter_search(data[0][:size], data[1][:size], data[2], data[3], c_values)\n",
    "    c_val = c_values[np.argmax(val_acc_1)]\n",
    "    \n",
    "    new_c_values = np.logspace(np.log10(c_val)-1, np.log10(c_val)+1, num=10)\n",
    "    data = partition(dataset['training_data'], dataset['training_labels'], mnist_val_size)\n",
    "    val_acc_2 = hyperparameter_search(data[0][:size], data[1][:size], data[2], data[3], new_c_values)\n",
    "    c_val = new_c_values[np.argmax(val_acc_2)]\n",
    "    \n",
    "    val_acc = np.append(val_acc_1, val_acc_2)\n",
    "    params = np.append(c_values, new_c_values)\n",
    "    \n",
    "    plt.figure()\n",
    "    plt.xscale('log')\n",
    "    plt.scatter(params, val_acc)\n",
    "    plt.xlabel('C values')\n",
    "    plt.ylabel('validation accuracy')\n",
    "    plt.title('parameter value VS validation accuracy')\n",
    "    plt.show()\n",
    "    print('highest c value is: ' + str(c_val) + ',with accuracy: ' + str(max(val_acc)))\n",
    "    return "
   ]
  },
  {
   "cell_type": "code",
   "execution_count": 8,
   "metadata": {},
   "outputs": [
    {
     "data": {
      "image/png": "[encoded data removed]",
      "text/plain": [
       "<Figure size 432x288 with 1 Axes>"
      ]
     },
     "metadata": {
      "needs_background": "light"
     },
     "output_type": "display_data"
    },
    {
     "name": "stdout",
     "output_type": "stream",
     "text": [
      "highest c value is: 4.641588833612778,with accuracy: 0.9591\n"
     ]
    }
   ],
   "source": [
    "main_q3()"
   ]
  },
  {
   "cell_type": "code",
   "execution_count": 63,
   "metadata": {},
   "outputs": [],
   "source": [
    "#################################\n",
    "# Question 4: KFold CrossValid  #\n",
    "#################################\n",
    "\n",
    "def k_fold_cross_validation(X_train, Y_train, k, parameter_values):\n",
    "    val_acc = []\n",
    "    for param in parameter_values:\n",
    "        indices = np.arange(X_train.shape[0])\n",
    "        np.random.shuffle(indices)\n",
    "        x_shuffle = X_train[indices]\n",
    "        y_shuffle = Y_train[indices]\n",
    "        k_acc = []\n",
    "        for i in range(k):\n",
    "            start = int(np.floor(i*len(X_train)/k))\n",
    "            end = int(np.floor((i+1)*len(X_train)/k))\n",
    "            train_x = np.append(x_shuffle[:start], x_shuffle[end:], axis=0)\n",
    "            train_y = np.append(y_shuffle[:start], y_shuffle[end:], axis=0)\n",
    "            val_x = x_shuffle[start:end]\n",
    "            val_y = y_shuffle[start:end]\n",
    "            model = train(train_x, train_y, param)\n",
    "            k_acc.append(accuracy_score(val_y, model.predict(val_x)))\n",
    "        val_acc.append(np.mean(k_acc))\n",
    "    \n",
    "    return val_acc\n",
    "\n",
    "def main_q4():\n",
    "    c_values = np.logspace(-9, 9, num=19)\n",
    "    dataset = spam_data\n",
    "    val_acc_1 = k_fold_cross_validation(dataset['training_data'], dataset['training_labels'], 5, c_values)\n",
    "    c_val = c_values[np.argmax(val_acc_1)]\n",
    "    \n",
    "    new_c_values = np.logspace(np.log10(c_val)-1, np.log10(c_val)+1, num=10)\n",
    "    val_acc_2 = k_fold_cross_validation(dataset['training_data'], dataset['training_labels'], 5, new_c_values)\n",
    "    c_val = new_c_values[np.argmax(val_acc_2)]\n",
    "    \n",
    "    val_acc = np.append(val_acc_1, val_acc_2)\n",
    "    params = np.append(c_values, new_c_values)\n",
    "    \n",
    "    plt.figure()\n",
    "    plt.xscale('log')\n",
    "    plt.scatter(params, val_acc)\n",
    "    plt.xlabel('C values')\n",
    "    plt.ylabel('validation accuracy')\n",
    "    plt.title('parameter value VS 5-fold-validation accuracy')\n",
    "    plt.show()\n",
    "    print('highest c value is: ' + str(c_val) + ',with 5-fold-accuracy: ' + str(max(val_acc)))\n",
    "    return"
   ]
  },
  {
   "cell_type": "code",
   "execution_count": 64,
   "metadata": {},
   "outputs": [
    {
     "data": {
      "image/png": "[encoded data removed]",
      "text/plain": [
       "<Figure size 432x288 with 1 Axes>"
      ]
     },
     "metadata": {
      "needs_background": "light"
     },
     "output_type": "display_data"
    },
    {
     "name": "stdout",
     "output_type": "stream",
     "text": [
      "highest c value is: 27.825594022071243,with 5-fold-accuracy: 0.8138067072202133\n"
     ]
    }
   ],
   "source": [
    "main_q4()"
   ]
  },
  {
   "cell_type": "code",
   "execution_count": null,
   "metadata": {},
   "outputs": [],
   "source": []
  }
 ],
 "metadata": {
  "kernelspec": {
   "display_name": "Python 3",
   "language": "python",
   "name": "python3"
  },
  "language_info": {
   "codemirror_mode": {
    "name": "ipython",
    "version": 3
   },
   "file_extension": ".py",
   "mimetype": "text/x-python",
   "name": "python",
   "nbconvert_exporter": "python",
   "pygments_lexer": "ipython3",
   "version": "3.8.3"
  }
 },
 "nbformat": 4,
 "nbformat_minor": 4
}
